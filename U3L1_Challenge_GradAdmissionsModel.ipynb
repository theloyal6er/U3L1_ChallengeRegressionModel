{
 "cells": [
  {
   "cell_type": "code",
   "execution_count": 125,
   "metadata": {},
   "outputs": [],
   "source": [
    "import pandas as pd\n",
    "import numpy as np\n",
    "import scipy\n",
    "import matplotlib.pyplot as plt\n",
    "%matplotlib inline\n",
    "from sklearn import linear_model\n",
    "%matplotlib inline\n",
    "import seaborn as sns\n",
    "pd.options.display.float_format = '{:.3f}'.format\n",
    "\n",
    "# Suppress annoying harmless error.\n",
    "import warnings\n",
    "warnings.filterwarnings(action=\"ignore\", module=\"scipy\", message=\"^internal gelsd\")"
   ]
  },
  {
   "cell_type": "code",
   "execution_count": 7,
   "metadata": {},
   "outputs": [],
   "source": [
    "grad_data = ('/Users/jasonpaik9/Documents/Thinkful/Bootcamp/Unit 3/admission_grad_data.csv')"
   ]
  },
  {
   "cell_type": "code",
   "execution_count": 60,
   "metadata": {
    "scrolled": true
   },
   "outputs": [],
   "source": [
    "data = pd.read_csv(grad_data)\n",
    "## The parameters included are : 1. GRE Scores ( out of 340 )\n",
    "## 2. TOEFL Scores ( out of 120 ) 3. University Rating ( out of 5 ) \n",
    "## 4. Statement of Purpose and Letter of Recommendation Strength ( out of 5 )\n",
    "## 5. Undergraduate GPA ( out of 10 ) 6. Research Experience ( either 0 or 1 )\n",
    "## 7. Chance of Admit ( ranging from 0 to 1 )\n",
    "data.columns = ['SerialNo','GREScore','TOEFLScore','UnivRating','SOP','LOR',\n",
    "                'CumulativeGPA','Research','ChanceofAdmit']"
   ]
  },
  {
   "cell_type": "code",
   "execution_count": 16,
   "metadata": {},
   "outputs": [
    {
     "data": {
      "text/plain": [
       "Serial No.             int64\n",
       "GRE Score              int64\n",
       "TOEFL Score            int64\n",
       "University Rating      int64\n",
       "SOP                  float64\n",
       "LOR                  float64\n",
       "CGPA                 float64\n",
       "Research               int64\n",
       "Chance of Admit      float64\n",
       "dtype: object"
      ]
     },
     "execution_count": 16,
     "metadata": {},
     "output_type": "execute_result"
    }
   ],
   "source": [
    "data.dtypes"
   ]
  },
  {
   "cell_type": "code",
   "execution_count": 61,
   "metadata": {
    "scrolled": true
   },
   "outputs": [
    {
     "data": {
      "text/html": [
       "<div>\n",
       "<style scoped>\n",
       "    .dataframe tbody tr th:only-of-type {\n",
       "        vertical-align: middle;\n",
       "    }\n",
       "\n",
       "    .dataframe tbody tr th {\n",
       "        vertical-align: top;\n",
       "    }\n",
       "\n",
       "    .dataframe thead th {\n",
       "        text-align: right;\n",
       "    }\n",
       "</style>\n",
       "<table border=\"1\" class=\"dataframe\">\n",
       "  <thead>\n",
       "    <tr style=\"text-align: right;\">\n",
       "      <th></th>\n",
       "      <th>SerialNo</th>\n",
       "      <th>GREScore</th>\n",
       "      <th>TOEFLScore</th>\n",
       "      <th>UnivRating</th>\n",
       "      <th>SOP</th>\n",
       "      <th>LOR</th>\n",
       "      <th>CumulativeGPA</th>\n",
       "      <th>Research</th>\n",
       "      <th>ChanceofAdmit</th>\n",
       "    </tr>\n",
       "  </thead>\n",
       "  <tbody>\n",
       "    <tr>\n",
       "      <th>0</th>\n",
       "      <td>1</td>\n",
       "      <td>337</td>\n",
       "      <td>118</td>\n",
       "      <td>4</td>\n",
       "      <td>4.500</td>\n",
       "      <td>4.500</td>\n",
       "      <td>9.650</td>\n",
       "      <td>1</td>\n",
       "      <td>0.920</td>\n",
       "    </tr>\n",
       "    <tr>\n",
       "      <th>1</th>\n",
       "      <td>2</td>\n",
       "      <td>324</td>\n",
       "      <td>107</td>\n",
       "      <td>4</td>\n",
       "      <td>4.000</td>\n",
       "      <td>4.500</td>\n",
       "      <td>8.870</td>\n",
       "      <td>1</td>\n",
       "      <td>0.760</td>\n",
       "    </tr>\n",
       "    <tr>\n",
       "      <th>2</th>\n",
       "      <td>3</td>\n",
       "      <td>316</td>\n",
       "      <td>104</td>\n",
       "      <td>3</td>\n",
       "      <td>3.000</td>\n",
       "      <td>3.500</td>\n",
       "      <td>8.000</td>\n",
       "      <td>1</td>\n",
       "      <td>0.720</td>\n",
       "    </tr>\n",
       "    <tr>\n",
       "      <th>3</th>\n",
       "      <td>4</td>\n",
       "      <td>322</td>\n",
       "      <td>110</td>\n",
       "      <td>3</td>\n",
       "      <td>3.500</td>\n",
       "      <td>2.500</td>\n",
       "      <td>8.670</td>\n",
       "      <td>1</td>\n",
       "      <td>0.800</td>\n",
       "    </tr>\n",
       "    <tr>\n",
       "      <th>4</th>\n",
       "      <td>5</td>\n",
       "      <td>314</td>\n",
       "      <td>103</td>\n",
       "      <td>2</td>\n",
       "      <td>2.000</td>\n",
       "      <td>3.000</td>\n",
       "      <td>8.210</td>\n",
       "      <td>0</td>\n",
       "      <td>0.650</td>\n",
       "    </tr>\n",
       "  </tbody>\n",
       "</table>\n",
       "</div>"
      ],
      "text/plain": [
       "   SerialNo  GREScore  TOEFLScore  UnivRating   SOP   LOR  CumulativeGPA  \\\n",
       "0         1       337         118           4 4.500 4.500          9.650   \n",
       "1         2       324         107           4 4.000 4.500          8.870   \n",
       "2         3       316         104           3 3.000 3.500          8.000   \n",
       "3         4       322         110           3 3.500 2.500          8.670   \n",
       "4         5       314         103           2 2.000 3.000          8.210   \n",
       "\n",
       "   Research  ChanceofAdmit  \n",
       "0         1          0.920  \n",
       "1         1          0.760  \n",
       "2         1          0.720  \n",
       "3         1          0.800  \n",
       "4         0          0.650  "
      ]
     },
     "execution_count": 61,
     "metadata": {},
     "output_type": "execute_result"
    }
   ],
   "source": [
    "data.head()"
   ]
  },
  {
   "cell_type": "code",
   "execution_count": 62,
   "metadata": {
    "scrolled": false
   },
   "outputs": [
    {
     "name": "stdout",
     "output_type": "stream",
     "text": [
      "\n",
      "Coefficients: \n",
      " [[0.00185851 0.00277797 0.00594137 0.00158614 0.01685874 0.11838505\n",
      "  0.02430748]]\n",
      "\n",
      "Intercept: \n",
      " [-1.27572508]\n",
      "\n",
      "R-squared:\n",
      "0.8219007395178417\n"
     ]
    }
   ],
   "source": [
    "## Linear regression model between three variables that might best explain ChanceofAdmit\n",
    "## These three variables might best explain ChanceofAdmit - adding more coefficients will\n",
    "## increase the model's strength - how do you trim it?\n",
    "regr = linear_model.LinearRegression()\n",
    "Y = data['ChanceofAdmit'].values.reshape(-1, 1)\n",
    "X = data[['GREScore','TOEFLScore','UnivRating','SOP','LOR','CumulativeGPA','Research']]\n",
    "regr.fit(X, Y)\n",
    "\n",
    "print('\\nCoefficients: \\n', regr.coef_)\n",
    "print('\\nIntercept: \\n', regr.intercept_)\n",
    "print('\\nR-squared:')\n",
    "print(regr.score(X, Y))"
   ]
  },
  {
   "cell_type": "code",
   "execution_count": 128,
   "metadata": {},
   "outputs": [
    {
     "name": "stdout",
     "output_type": "stream",
     "text": [
      "\n",
      "Coefficients: \n",
      " [[0.0032165  0.02140445 0.13543319]]\n",
      "\n",
      "Intercept: \n",
      " [-1.53230123]\n",
      "\n",
      "R-squared:\n",
      "0.81128117778268\n"
     ]
    }
   ],
   "source": [
    "regr = linear_model.LinearRegression()\n",
    "Y = data['ChanceofAdmit'].values.reshape(-1, 1)\n",
    "X = data[['GREScore','LOR','CumulativeGPA']]\n",
    "regr.fit(X, Y)\n",
    "\n",
    "print('\\nCoefficients: \\n', regr.coef_)\n",
    "print('\\nIntercept: \\n', regr.intercept_)\n",
    "print('\\nR-squared:')\n",
    "print(regr.score(X, Y))"
   ]
  },
  {
   "cell_type": "code",
   "execution_count": 126,
   "metadata": {},
   "outputs": [
    {
     "data": {
      "text/plain": [
       "<matplotlib.axes._subplots.AxesSubplot at 0x1114c3e48>"
      ]
     },
     "execution_count": 126,
     "metadata": {},
     "output_type": "execute_result"
    },
    {
     "data": {
      "image/png": "[encoded data removed]",
      "text/plain": [
       "<Figure size 720x720 with 2 Axes>"
      ]
     },
     "metadata": {
      "needs_background": "light"
     },
     "output_type": "display_data"
    }
   ],
   "source": [
    "fig, ax = plt.subplots(figsize=(10,10))\n",
    "sns.heatmap(data.corr(),cmap=\"YlGnBu\")"
   ]
  },
  {
   "cell_type": "code",
   "execution_count": 74,
   "metadata": {
    "scrolled": true
   },
   "outputs": [],
   "source": [
    "#from sklearn.neighbors import KNeighborsClassifier\n",
    "from sklearn import neighbors"
   ]
  },
  {
   "cell_type": "code",
   "execution_count": 121,
   "metadata": {
    "scrolled": true
   },
   "outputs": [
    {
     "data": {
      "image/png": "[encoded data removed]",
      "text/plain": [
       "<Figure size 432x288 with 1 Axes>"
      ]
     },
     "metadata": {
      "needs_background": "light"
     },
     "output_type": "display_data"
    },
    {
     "name": "stdout",
     "output_type": "stream",
     "text": [
      "Unweighted Accuracy: 0.77 (+/- 0.14)\n",
      "Weighted Accuracy: 0.73 (+/- 0.14)\n"
     ]
    }
   ],
   "source": [
    "## KNN algorithm to predict the model with \n",
    "knn = neighbors.KNeighborsRegressor(n_neighbors=10)\n",
    "x_knn = data[['CumulativeGPA']]\n",
    "y_knn = data.ChanceofAdmit\n",
    "knn.fit(x_knn,y_knn)\n",
    "\n",
    "knn_w = neighbors.KNeighborsRegressor(n_neighbors=10, weights='distance')\n",
    "x1_knn = data[['CumulativeGPA']]\n",
    "y1_knn = data.ChanceofAdmit\n",
    "knn_w.fit(X, Y)\n",
    "\n",
    "T = np.arange(0, 11, 0.1)[:, np.newaxis]\n",
    "Y_ = knn.predict(T)\n",
    "\n",
    "plt.scatter(x_knn, y_knn, c='k', label='data')\n",
    "plt.plot(T, Y_, c='g', label='prediction')\n",
    "plt.legend()\n",
    "plt.title('K=10, Weighted')\n",
    "plt.show()\n",
    "from sklearn.model_selection import cross_val_score\n",
    "score = cross_val_score(knn, x_knn, y_knn, cv=5)\n",
    "print(\"Unweighted Accuracy: %0.2f (+/- %0.2f)\" % (score.mean(), score.std() * 2))\n",
    "score_w = cross_val_score(knn_w, x1_knn, y1_knn, cv=5)\n",
    "print(\"Weighted Accuracy: %0.2f (+/- %0.2f)\" % (score_w.mean(), score_w.std() * 2))"
   ]
  },
  {
   "cell_type": "code",
   "execution_count": 129,
   "metadata": {},
   "outputs": [
    {
     "data": {
      "image/png": "[encoded data removed]",
      "text/plain": [
       "<Figure size 432x288 with 1 Axes>"
      ]
     },
     "metadata": {
      "needs_background": "light"
     },
     "output_type": "display_data"
    },
    {
     "name": "stdout",
     "output_type": "stream",
     "text": [
      "Unweighted Accuracy: 0.60 (+/- 0.15)\n",
      "Weighted Accuracy: 0.60 (+/- 0.15)\n"
     ]
    }
   ],
   "source": [
    "knn = neighbors.KNeighborsRegressor(n_neighbors=10)\n",
    "x_knn = data[['GREScore']]\n",
    "y_knn = data.ChanceofAdmit\n",
    "knn.fit(x_knn,y_knn)\n",
    "\n",
    "knn_w = neighbors.KNeighborsRegressor(n_neighbors=10, weights='distance')\n",
    "x1_knn = data[['GREScore']]\n",
    "y1_knn = data.ChanceofAdmit\n",
    "knn_w.fit(X, Y)\n",
    "\n",
    "T = np.arange(0, 400, 0.1)[:, np.newaxis]\n",
    "Y_ = knn.predict(T)\n",
    "\n",
    "plt.scatter(x_knn, y_knn, c='k', label='data')\n",
    "plt.plot(T, Y_, c='g', label='prediction')\n",
    "plt.legend()\n",
    "plt.title('K=10, Weighted')\n",
    "plt.show()\n",
    "from sklearn.model_selection import cross_val_score\n",
    "score = cross_val_score(knn, x_knn, y_knn, cv=5)\n",
    "print(\"Unweighted Accuracy: %0.2f (+/- %0.2f)\" % (score.mean(), score.std() * 2))\n",
    "score_w = cross_val_score(knn_w, x1_knn, y1_knn, cv=5)\n",
    "print(\"Weighted Accuracy: %0.2f (+/- %0.2f)\" % (score_w.mean(), score_w.std() * 2))"
   ]
  },
  {
   "cell_type": "markdown",
   "metadata": {},
   "source": [
    "## Regression Model Comparison Write Up\n",
    "\n",
    "##### Introduction\n",
    "\n",
    "I used a dataset found on Kaggle prepared by UCLA graduate admissions data that had data ranging between test scores, letters of recommendation, personal statements, undergraduate GPA, and other variables that go into consideration for admittance. What was interesting is that the dataset did not provide a binary scale as to whether the student who applied got in and the **ChanceofAdmit** is just the personal confidence the applicant had when they had their respective scores for applying to this school. I used this as Y-variable, despite it not being the actual fact whether they got in or not, because this variable should in large part tell me what the applicant's confidence was regardless of whether they got in or not. I am under the assumption of good faith an applicant should know where they stand in getting in and moreso I could use the model I created as a baseline understanding of how others stacked up if I had the same metrics to plug my own values in.\n",
    "\n",
    "##### Writeup\n",
    "\n",
    "When you consider what both the multi-variate regression and the KNN regression brings, there are interesting things that both can give. Multi-variate regression gives me a multiple number of variables that I can bring to consider into the equation that have different coefficient weights that might explain for the variance. I first stacked all the variables into one equation but saw that the R-squared value only changed by a percentage when I tailored it to three variables (filtered this through a correlation heat map to see which three had the highest). This tells me that most of the other variables were just extra fillers and my linear regression model kept its accuracy without compromising too much.\n",
    "\n",
    "For the KNN-classification model, I did not have a classifier variable that would've told me whether the applicant got into the school or not (1 or 0 for admitted/rejected). What I did use was the regression model in seeing what one variable could have affected the **ChanceofAdmit** variable the most and created a model that best predicted, by weight, what type of weight the CumulativeGPA had on this Y-variable. It told me exact breakpoints as to what Chances of Admittance confidence scores elevated at so the model showed me in exact detail as to what type of score I would need for a certain admittance level.\n",
    "\n",
    "I think both models have strengths in their own ways. I think the multi-variate regression model shows in large part, if I had the data, what my **ChanceofAdmit** score could roughly be on a holistic level. It can show me where I can level my confidence at on a realistic level in a compared pool amongst other applicants who are trying to achieve the same thing. But my KNN-regression model shows me in a lot of ways what specific scores give breaks in the levels of confidence. Does my cumulative GPA give me a confidence in the 80th percentile? What about my GRE Score? I think in certain ways where you feel like some scores have more importance than others, you can see where you individually have strengths and weaknesses in to further flesh out your model. I think both are strong but I would use the KNN-regression model to see how my individual scores stacked up. I think in a lot of ways this shows you a deeper detail as to what is relevant to you."
   ]
  },
  {
   "cell_type": "code",
   "execution_count": null,
   "metadata": {},
   "outputs": [],
   "source": []
  }
 ],
 "metadata": {
  "kernelspec": {
   "display_name": "Python 3",
   "language": "python",
   "name": "python3"
  },
  "language_info": {
   "codemirror_mode": {
    "name": "ipython",
    "version": 3
   },
   "file_extension": ".py",
   "mimetype": "text/x-python",
   "name": "python",
   "nbconvert_exporter": "python",
   "pygments_lexer": "ipython3",
   "version": "3.7.0"
  }
 },
 "nbformat": 4,
 "nbformat_minor": 2
}
